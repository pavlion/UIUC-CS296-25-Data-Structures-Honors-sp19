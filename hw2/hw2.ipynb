{
 "cells": [
  {
   "cell_type": "markdown",
   "metadata": {},
   "source": [
    "## Homework 2: Similarity\n",
    "\n",
    "One of the most important metrics that we have in Data Science is the ability to group similar data together.  In Lecture 1, you learned about several metrics of similarity; in the past few days, you filled out a survey to share some bits about you.\n",
    "\n",
    "### Puzzle 1: Import pandas + read_csv\n",
    "\n",
    "The dataset `hello-world-cleaned.csv` is provided for you in same directory as this Notebook.  Use `pandas` to read this file:"
   ]
  },
  {
   "cell_type": "code",
   "execution_count": 1,
   "metadata": {},
   "outputs": [],
   "source": [
    "import pandas as pd\n",
    "df = pd.read_csv(\"hello-world-cleaned.csv\")"
   ]
  },
  {
   "cell_type": "code",
   "execution_count": 2,
   "metadata": {},
   "outputs": [],
   "source": [
    "#print(df)"
   ]
  },
  {
   "cell_type": "markdown",
   "metadata": {},
   "source": [
    "### Puzzle 2: Find yourself\n",
    "\n",
    "Use a selector to find **yourself** within the DataFrame.  It may be useful to store yourself in a variable called `my_row` or similar:"
   ]
  },
  {
   "cell_type": "code",
   "execution_count": 3,
   "metadata": {},
   "outputs": [],
   "source": [
    "#print(len(df.columns))\n",
    "#print(df.columns)"
   ]
  },
  {
   "cell_type": "code",
   "execution_count": 4,
   "metadata": {},
   "outputs": [
    {
     "data": {
      "text/plain": [
       "(['Senior',\n",
       "  'ECE',\n",
       "  'Android',\n",
       "  'Spaces',\n",
       "  'VS Code',\n",
       "  'Python',\n",
       "  'Chocolate',\n",
       "  'Dark',\n",
       "  'Cheetah',\n",
       "  '8',\n",
       "  '10',\n",
       "  '0',\n",
       "  'Cream Soup',\n",
       "  'Blue',\n",
       "  'DC',\n",
       "  'Violin',\n",
       "  'Blue and Black',\n",
       "  '12',\n",
       "  'ECE 498',\n",
       "  '4',\n",
       "  '66',\n",
       "  'Windows'],)"
      ]
     },
     "execution_count": 4,
     "metadata": {},
     "output_type": "execute_result"
    }
   ],
   "source": [
    "#my_row = pd.DataFrame(['Senior','ECE','Android','Spaces','VS Code','Python','Chocolate','Dark','Cheetah','8','10','0','Cream Soup','Blue','DC','Violin','Blue and Black','12','ECE 498','4','66','Windows'],\\\n",
    "#                      columns=df.columns\n",
    "#                     )\n",
    "my_row = ['Senior','ECE','Android','Spaces','VS Code','Python','Chocolate','Dark','Cheetah','8','10','0','Cream Soup','Blue','DC','Violin','Blue and Black','12','ECE 498','4','66','Windows'],\\\n",
    "                              \n",
    "my_row"
   ]
  },
  {
   "cell_type": "code",
   "execution_count": 5,
   "metadata": {},
   "outputs": [
    {
     "data": {
      "text/plain": [
       "14    Austin\n",
       "Name: What's your first name?, dtype: object"
      ]
     },
     "execution_count": 5,
     "metadata": {},
     "output_type": "execute_result"
    }
   ],
   "source": [
    "df.loc[ (df['What year in college do you consider yourself (ex: Senior)?'] == 'Senior') &\n",
    "        (df['What major do you consider yourself (ex: CS+STAT)?'] == 'ECE'), 'What\\'s your first name?']"
   ]
  },
  {
   "cell_type": "markdown",
   "metadata": {},
   "source": [
    "### Puzzle 3: Add a similarity metric to every person\n",
    "\n",
    "Add a column to the DataFrame that ranks how similar each person is to you.  A correct algorithm should have your similarity  score with yourself being of maximum value (and the similarity score of everyone else to be slightly lower)."
   ]
  },
  {
   "cell_type": "code",
   "execution_count": 6,
   "metadata": {},
   "outputs": [],
   "source": [
    "#print(True + True+ True+ False)"
   ]
  },
  {
   "cell_type": "code",
   "execution_count": 7,
   "metadata": {},
   "outputs": [
    {
     "data": {
      "text/plain": [
       "\"df['What major do you consider yourself (ex: CS+STAT)?'][0] == 'CS\""
      ]
     },
     "execution_count": 7,
     "metadata": {},
     "output_type": "execute_result"
    }
   ],
   "source": [
    "'''df['What major do you consider yourself (ex: CS+STAT)?'][0] == 'CS'''"
   ]
  },
  {
   "cell_type": "code",
   "execution_count": 8,
   "metadata": {},
   "outputs": [
    {
     "data": {
      "text/plain": [
       "\"s = 0\\nfor i in range(88):\\n    s = s + (df['What major do you consider yourself (ex: CS+STAT)?'][i] == 'CS')\\nprint(s)\""
      ]
     },
     "execution_count": 8,
     "metadata": {},
     "output_type": "execute_result"
    }
   ],
   "source": [
    "'''s = 0\n",
    "for i in range(88):\n",
    "    s = s + (df['What major do you consider yourself (ex: CS+STAT)?'][i] == 'CS')\n",
    "print(s)'''"
   ]
  },
  {
   "cell_type": "code",
   "execution_count": 9,
   "metadata": {},
   "outputs": [
    {
     "data": {
      "text/plain": [
       "\"i = 14\\nprint(df['What year in college do you consider yourself (ex: Senior)?'][i] == 'Senior')\\nprint(df['What major do you consider yourself (ex: CS+STAT)?'][i] == 'ECE')\\nprint(df['Cell Phone: Android or iOS?'][i]  == 'Android')\\nprint(df['Tabs or Spaces?'][i] == 'Spaces')\\nprint(df['Favorite Code Editor?'][i] ==  'VS Code')\\nprint(df['Favorite Programming Language?'][i] == 'Python')\\nprint(df['Favorite Candy?'][i] ==  'Chocolate')\\nprint(df['Favorite IDE Theme (ex: dark/light)'][i] == 'Dark')\\nprint(df['Spirit Animal?'][i] ==  'Cheetah')\\nprint(df['Ideal Hours of Sleep /night?'][i] ==  8)\\nprint(df['Shoe Size?'][i] == 10)\\nprint(df['How many siblings?'][i] ==  0)\\nprint(df['Favorite Food?'][i] ==  'Cream Soup')\\nprint(df['Favorite Color?'][i] == 'Blue')\\nprint(df['Marvel or DC?'][i] ==  'DC')\\nprint(df['Instrument you play (if any)?'][i] == 'Violin')\\nprint(df['The Dress: https://en.wikipedia.org/wiki/The_dress#/media/File:The_Dress_(viral_phenomenon).png'][i] == 'Blue and Black')\\nprint(df['How many credit hours are you in this semester?'][i] == 12)\\nprint(df['Excluding CS 225 and CS 296, favorite course at UIUC so far?  (This semester or a previous semester.)'][i] == 'ECE 498')\\nprint(df['Eating Out: # of meals out /week?'][i] ==  4)\\nprint(df['Height (in)'][i] == 66)\\nprint(df['Windows, Mac, or Linux?'][i] == 'Windows')\""
      ]
     },
     "execution_count": 9,
     "metadata": {},
     "output_type": "execute_result"
    }
   ],
   "source": [
    "'''i = 14\n",
    "print(df['What year in college do you consider yourself (ex: Senior)?'][i] == 'Senior')\n",
    "print(df['What major do you consider yourself (ex: CS+STAT)?'][i] == 'ECE')\n",
    "print(df['Cell Phone: Android or iOS?'][i]  == 'Android')\n",
    "print(df['Tabs or Spaces?'][i] == 'Spaces')\n",
    "print(df['Favorite Code Editor?'][i] ==  'VS Code')\n",
    "print(df['Favorite Programming Language?'][i] == 'Python')\n",
    "print(df['Favorite Candy?'][i] ==  'Chocolate')\n",
    "print(df['Favorite IDE Theme (ex: dark/light)'][i] == 'Dark')\n",
    "print(df['Spirit Animal?'][i] ==  'Cheetah')\n",
    "print(df['Ideal Hours of Sleep /night?'][i] ==  8)\n",
    "print(df['Shoe Size?'][i] == 10)\n",
    "print(df['How many siblings?'][i] ==  0)\n",
    "print(df['Favorite Food?'][i] ==  'Cream Soup')\n",
    "print(df['Favorite Color?'][i] == 'Blue')\n",
    "print(df['Marvel or DC?'][i] ==  'DC')\n",
    "print(df['Instrument you play (if any)?'][i] == 'Violin')\n",
    "print(df['The Dress: https://en.wikipedia.org/wiki/The_dress#/media/File:The_Dress_(viral_phenomenon).png'][i] == 'Blue and Black')\n",
    "print(df['How many credit hours are you in this semester?'][i] == 12)\n",
    "print(df['Excluding CS 225 and CS 296, favorite course at UIUC so far?  (This semester or a previous semester.)'][i] == 'ECE 498')\n",
    "print(df['Eating Out: # of meals out /week?'][i] ==  4)\n",
    "print(df['Height (in)'][i] == 66)\n",
    "print(df['Windows, Mac, or Linux?'][i] == 'Windows')'''"
   ]
  },
  {
   "cell_type": "code",
   "execution_count": 10,
   "metadata": {},
   "outputs": [],
   "source": [
    "sim = [0]*88\n",
    "for i in range(88):\n",
    "    sim[i] = (\n",
    "    (df['What year in college do you consider yourself (ex: Senior)?'][i] == 'Senior')\n",
    "    +(df['What major do you consider yourself (ex: CS+STAT)?'][i] == 'ECE')\n",
    "    +(df['Cell Phone: Android or iOS?'][i]  == 'Android')\n",
    "    +(df['Tabs or Spaces?'][i] == 'Spaces')\n",
    "    +(df['Favorite Code Editor?'][i] ==  'VS Code')\n",
    "    +(df['Favorite Programming Language?'][i] == 'Python')\n",
    "    +(df['Favorite Candy?'][i] ==  'Chocolate')\n",
    "    +(df['Favorite IDE Theme (ex: dark/light)'][i] == 'Dark')\n",
    "    +(df['Spirit Animal?'][i] ==  'Cheetah')\n",
    "    +(df['Ideal Hours of Sleep /night?'][i] ==  8)\n",
    "    +(df['Shoe Size?'][i] == 10)\n",
    "    +(df['How many siblings?'][i] ==  0)\n",
    "    +(df['Favorite Food?'][i] ==  'Cream Soup')\n",
    "    +(df['Favorite Color?'][i] == 'Blue')\n",
    "    +(df['Marvel or DC?'][i] ==  'DC')\n",
    "    +(df['Instrument you play (if any)?'][i] == 'Violin')\n",
    "    +(df['The Dress: https://en.wikipedia.org/wiki/The_dress#/media/File:The_Dress_(viral_phenomenon).png'][i] == 'Blue and Black')\n",
    "    +(df['How many credit hours are you in this semester?'][i] == 12)\n",
    "    +(df['Excluding CS 225 and CS 296, favorite course at UIUC so far?  (This semester or a previous semester.)'][i] == 'ECE 498')\n",
    "    +(df['Eating Out: # of meals out /week?'][i] ==  4)\n",
    "    +(df['Height (in)'][i] == 66)\n",
    "    +(df['Windows, Mac, or Linux?'][i] == 'Windows')\n",
    "    )/22\n",
    "    \n"
   ]
  },
  {
   "cell_type": "code",
   "execution_count": 11,
   "metadata": {
    "scrolled": true
   },
   "outputs": [
    {
     "name": "stdout",
     "output_type": "stream",
     "text": [
      "88\n"
     ]
    }
   ],
   "source": [
    "print(len(sim))"
   ]
  },
  {
   "cell_type": "code",
   "execution_count": 12,
   "metadata": {
    "scrolled": true
   },
   "outputs": [
    {
     "name": "stdout",
     "output_type": "stream",
     "text": [
      "0     0.272727\n",
      "1     0.181818\n",
      "2     0.136364\n",
      "3     0.181818\n",
      "4     0.227273\n",
      "5     0.090909\n",
      "6     0.045455\n",
      "7     0.181818\n",
      "8     0.272727\n",
      "9     0.318182\n",
      "10    0.318182\n",
      "11    0.090909\n",
      "12    0.272727\n",
      "13    0.181818\n",
      "14    1.000000\n",
      "15    0.272727\n",
      "16    0.136364\n",
      "17    0.136364\n",
      "18    0.181818\n",
      "19    0.227273\n",
      "20    0.227273\n",
      "21    0.318182\n",
      "22    0.181818\n",
      "23    0.181818\n",
      "24    0.090909\n",
      "25    0.227273\n",
      "26    0.227273\n",
      "27    0.227273\n",
      "28    0.318182\n",
      "29    0.227273\n",
      "        ...   \n",
      "58    0.227273\n",
      "59    0.090909\n",
      "60    0.227273\n",
      "61    0.272727\n",
      "62    0.272727\n",
      "63    0.272727\n",
      "64    0.181818\n",
      "65    0.136364\n",
      "66    0.272727\n",
      "67    0.181818\n",
      "68    0.136364\n",
      "69    0.363636\n",
      "70    0.181818\n",
      "71    0.272727\n",
      "72    0.227273\n",
      "73    0.000000\n",
      "74    0.227273\n",
      "75    0.272727\n",
      "76    0.045455\n",
      "77    0.227273\n",
      "78    0.227273\n",
      "79    0.181818\n",
      "80    0.227273\n",
      "81    0.090909\n",
      "82    0.181818\n",
      "83    0.136364\n",
      "84    0.136364\n",
      "85    0.181818\n",
      "86    0.272727\n",
      "87    0.181818\n",
      "Name: Similarity, Length: 88, dtype: float64\n"
     ]
    }
   ],
   "source": [
    "df['Similarity'] = sim\n",
    "print(df['Similarity'])"
   ]
  },
  {
   "cell_type": "markdown",
   "metadata": {},
   "source": [
    "#### Validation 1: Are you most similar to yourself?"
   ]
  },
  {
   "cell_type": "code",
   "execution_count": 13,
   "metadata": {},
   "outputs": [
    {
     "data": {
      "text/html": [
       "<div>\n",
       "<style scoped>\n",
       "    .dataframe tbody tr th:only-of-type {\n",
       "        vertical-align: middle;\n",
       "    }\n",
       "\n",
       "    .dataframe tbody tr th {\n",
       "        vertical-align: top;\n",
       "    }\n",
       "\n",
       "    .dataframe thead th {\n",
       "        text-align: right;\n",
       "    }\n",
       "</style>\n",
       "<table border=\"1\" class=\"dataframe\">\n",
       "  <thead>\n",
       "    <tr style=\"text-align: right;\">\n",
       "      <th></th>\n",
       "      <th>What's your first name?</th>\n",
       "      <th>What year in college do you consider yourself (ex: Senior)?</th>\n",
       "      <th>What major do you consider yourself (ex: CS+STAT)?</th>\n",
       "      <th>Cell Phone: Android or iOS?</th>\n",
       "      <th>Tabs or Spaces?</th>\n",
       "      <th>Favorite Code Editor?</th>\n",
       "      <th>Favorite Programming Language?</th>\n",
       "      <th>Favorite Candy?</th>\n",
       "      <th>Favorite IDE Theme (ex: dark/light)</th>\n",
       "      <th>Spirit Animal?</th>\n",
       "      <th>...</th>\n",
       "      <th>Favorite Color?</th>\n",
       "      <th>Marvel or DC?</th>\n",
       "      <th>Instrument you play (if any)?</th>\n",
       "      <th>The Dress: https://en.wikipedia.org/wiki/The_dress#/media/File:The_Dress_(viral_phenomenon).png</th>\n",
       "      <th>How many credit hours are you in this semester?</th>\n",
       "      <th>Excluding CS 225 and CS 296, favorite course at UIUC so far?  (This semester or a previous semester.)</th>\n",
       "      <th>Eating Out: # of meals out /week?</th>\n",
       "      <th>Height (in)</th>\n",
       "      <th>Windows, Mac, or Linux?</th>\n",
       "      <th>Similarity</th>\n",
       "    </tr>\n",
       "  </thead>\n",
       "  <tbody>\n",
       "    <tr>\n",
       "      <th>14</th>\n",
       "      <td>Austin</td>\n",
       "      <td>Senior</td>\n",
       "      <td>ECE</td>\n",
       "      <td>Android</td>\n",
       "      <td>Spaces</td>\n",
       "      <td>VS Code</td>\n",
       "      <td>Python</td>\n",
       "      <td>Chocolate</td>\n",
       "      <td>Dark</td>\n",
       "      <td>Cheetah</td>\n",
       "      <td>...</td>\n",
       "      <td>Blue</td>\n",
       "      <td>DC</td>\n",
       "      <td>Violin</td>\n",
       "      <td>Blue and Black</td>\n",
       "      <td>12.0</td>\n",
       "      <td>ECE 498</td>\n",
       "      <td>4.0</td>\n",
       "      <td>66.0</td>\n",
       "      <td>Windows</td>\n",
       "      <td>1.0</td>\n",
       "    </tr>\n",
       "  </tbody>\n",
       "</table>\n",
       "<p>1 rows × 24 columns</p>\n",
       "</div>"
      ],
      "text/plain": [
       "   What's your first name?  \\\n",
       "14                  Austin   \n",
       "\n",
       "   What year in college do you consider yourself (ex: Senior)?  \\\n",
       "14                                             Senior            \n",
       "\n",
       "   What major do you consider yourself (ex: CS+STAT)?  \\\n",
       "14                                                ECE   \n",
       "\n",
       "   Cell Phone: Android or iOS? Tabs or Spaces? Favorite Code Editor?  \\\n",
       "14                     Android          Spaces               VS Code   \n",
       "\n",
       "   Favorite Programming Language? Favorite Candy?  \\\n",
       "14                         Python       Chocolate   \n",
       "\n",
       "   Favorite IDE Theme (ex: dark/light) Spirit Animal?    ...      \\\n",
       "14                                Dark        Cheetah    ...       \n",
       "\n",
       "    Favorite Color?  Marvel or DC?  Instrument you play (if any)?  \\\n",
       "14             Blue             DC                         Violin   \n",
       "\n",
       "   The Dress: https://en.wikipedia.org/wiki/The_dress#/media/File:The_Dress_(viral_phenomenon).png  \\\n",
       "14                                     Blue and Black                                                \n",
       "\n",
       "   How many credit hours are you in this semester?  \\\n",
       "14                                            12.0   \n",
       "\n",
       "   Excluding CS 225 and CS 296, favorite course at UIUC so far?  (This semester or a previous semester.)  \\\n",
       "14                                            ECE 498                                                      \n",
       "\n",
       "   Eating Out: # of meals out /week? Height (in)  Windows, Mac, or Linux?  \\\n",
       "14                               4.0        66.0                  Windows   \n",
       "\n",
       "   Similarity  \n",
       "14        1.0  \n",
       "\n",
       "[1 rows x 24 columns]"
      ]
     },
     "execution_count": 13,
     "metadata": {},
     "output_type": "execute_result"
    }
   ],
   "source": [
    "# Should print out your own row (feel free to change `df` or 'Similarity' to a different variable/column name):\n",
    "df.nlargest(1, 'Similarity')"
   ]
  },
  {
   "cell_type": "markdown",
   "metadata": {},
   "source": [
    "### Final Result: Who is most similar to you?\n",
    "\n",
    "Excluding yourself, who in CS 296 is/are most similar to you?"
   ]
  },
  {
   "cell_type": "code",
   "execution_count": 14,
   "metadata": {},
   "outputs": [
    {
     "data": {
      "text/html": [
       "<div>\n",
       "<style scoped>\n",
       "    .dataframe tbody tr th:only-of-type {\n",
       "        vertical-align: middle;\n",
       "    }\n",
       "\n",
       "    .dataframe tbody tr th {\n",
       "        vertical-align: top;\n",
       "    }\n",
       "\n",
       "    .dataframe thead th {\n",
       "        text-align: right;\n",
       "    }\n",
       "</style>\n",
       "<table border=\"1\" class=\"dataframe\">\n",
       "  <thead>\n",
       "    <tr style=\"text-align: right;\">\n",
       "      <th></th>\n",
       "      <th>What's your first name?</th>\n",
       "      <th>What year in college do you consider yourself (ex: Senior)?</th>\n",
       "      <th>What major do you consider yourself (ex: CS+STAT)?</th>\n",
       "      <th>Cell Phone: Android or iOS?</th>\n",
       "      <th>Tabs or Spaces?</th>\n",
       "      <th>Favorite Code Editor?</th>\n",
       "      <th>Favorite Programming Language?</th>\n",
       "      <th>Favorite Candy?</th>\n",
       "      <th>Favorite IDE Theme (ex: dark/light)</th>\n",
       "      <th>Spirit Animal?</th>\n",
       "      <th>...</th>\n",
       "      <th>Favorite Color?</th>\n",
       "      <th>Marvel or DC?</th>\n",
       "      <th>Instrument you play (if any)?</th>\n",
       "      <th>The Dress: https://en.wikipedia.org/wiki/The_dress#/media/File:The_Dress_(viral_phenomenon).png</th>\n",
       "      <th>How many credit hours are you in this semester?</th>\n",
       "      <th>Excluding CS 225 and CS 296, favorite course at UIUC so far?  (This semester or a previous semester.)</th>\n",
       "      <th>Eating Out: # of meals out /week?</th>\n",
       "      <th>Height (in)</th>\n",
       "      <th>Windows, Mac, or Linux?</th>\n",
       "      <th>Similarity</th>\n",
       "    </tr>\n",
       "  </thead>\n",
       "  <tbody>\n",
       "    <tr>\n",
       "      <th>14</th>\n",
       "      <td>Austin</td>\n",
       "      <td>Senior</td>\n",
       "      <td>ECE</td>\n",
       "      <td>Android</td>\n",
       "      <td>Spaces</td>\n",
       "      <td>VS Code</td>\n",
       "      <td>Python</td>\n",
       "      <td>Chocolate</td>\n",
       "      <td>Dark</td>\n",
       "      <td>Cheetah</td>\n",
       "      <td>...</td>\n",
       "      <td>Blue</td>\n",
       "      <td>DC</td>\n",
       "      <td>Violin</td>\n",
       "      <td>Blue and Black</td>\n",
       "      <td>12.0</td>\n",
       "      <td>ECE 498</td>\n",
       "      <td>4.0</td>\n",
       "      <td>66.0</td>\n",
       "      <td>Windows</td>\n",
       "      <td>1.000000</td>\n",
       "    </tr>\n",
       "    <tr>\n",
       "      <th>44</th>\n",
       "      <td>Heesoo</td>\n",
       "      <td>Freshman</td>\n",
       "      <td>CS</td>\n",
       "      <td>Android</td>\n",
       "      <td>Spaces</td>\n",
       "      <td>vim</td>\n",
       "      <td>C++</td>\n",
       "      <td>Reese's</td>\n",
       "      <td>Dark</td>\n",
       "      <td>Armadillo</td>\n",
       "      <td>...</td>\n",
       "      <td>Black</td>\n",
       "      <td>Marval</td>\n",
       "      <td>Violin</td>\n",
       "      <td>Blue and Black</td>\n",
       "      <td>15.0</td>\n",
       "      <td>NaN</td>\n",
       "      <td>4.0</td>\n",
       "      <td>73.0</td>\n",
       "      <td>Mac</td>\n",
       "      <td>0.363636</td>\n",
       "    </tr>\n",
       "  </tbody>\n",
       "</table>\n",
       "<p>2 rows × 24 columns</p>\n",
       "</div>"
      ],
      "text/plain": [
       "   What's your first name?  \\\n",
       "14                  Austin   \n",
       "44                  Heesoo   \n",
       "\n",
       "   What year in college do you consider yourself (ex: Senior)?  \\\n",
       "14                                             Senior            \n",
       "44                                           Freshman            \n",
       "\n",
       "   What major do you consider yourself (ex: CS+STAT)?  \\\n",
       "14                                                ECE   \n",
       "44                                                 CS   \n",
       "\n",
       "   Cell Phone: Android or iOS? Tabs or Spaces? Favorite Code Editor?  \\\n",
       "14                     Android          Spaces               VS Code   \n",
       "44                     Android          Spaces                   vim   \n",
       "\n",
       "   Favorite Programming Language? Favorite Candy?  \\\n",
       "14                         Python       Chocolate   \n",
       "44                            C++         Reese's   \n",
       "\n",
       "   Favorite IDE Theme (ex: dark/light) Spirit Animal?    ...      \\\n",
       "14                                Dark        Cheetah    ...       \n",
       "44                                Dark      Armadillo    ...       \n",
       "\n",
       "    Favorite Color?  Marvel or DC?  Instrument you play (if any)?  \\\n",
       "14             Blue             DC                         Violin   \n",
       "44            Black         Marval                         Violin   \n",
       "\n",
       "   The Dress: https://en.wikipedia.org/wiki/The_dress#/media/File:The_Dress_(viral_phenomenon).png  \\\n",
       "14                                     Blue and Black                                                \n",
       "44                                     Blue and Black                                                \n",
       "\n",
       "   How many credit hours are you in this semester?  \\\n",
       "14                                            12.0   \n",
       "44                                            15.0   \n",
       "\n",
       "   Excluding CS 225 and CS 296, favorite course at UIUC so far?  (This semester or a previous semester.)  \\\n",
       "14                                            ECE 498                                                      \n",
       "44                                                NaN                                                      \n",
       "\n",
       "   Eating Out: # of meals out /week? Height (in)  Windows, Mac, or Linux?  \\\n",
       "14                               4.0        66.0                  Windows   \n",
       "44                               4.0        73.0                      Mac   \n",
       "\n",
       "   Similarity  \n",
       "14   1.000000  \n",
       "44   0.363636  \n",
       "\n",
       "[2 rows x 24 columns]"
      ]
     },
     "execution_count": 14,
     "metadata": {},
     "output_type": "execute_result"
    }
   ],
   "source": [
    "df.nlargest(2, 'Similarity')"
   ]
  },
  {
   "cell_type": "code",
   "execution_count": 15,
   "metadata": {},
   "outputs": [
    {
     "data": {
      "text/plain": [
       "'Heesoo'"
      ]
     },
     "execution_count": 15,
     "metadata": {},
     "output_type": "execute_result"
    }
   ],
   "source": [
    "'Heesoo'"
   ]
  },
  {
   "cell_type": "code",
   "execution_count": null,
   "metadata": {},
   "outputs": [],
   "source": []
  }
 ],
 "metadata": {
  "kernelspec": {
   "display_name": "Python 3",
   "language": "python",
   "name": "python3"
  },
  "language_info": {
   "codemirror_mode": {
    "name": "ipython",
    "version": 3
   },
   "file_extension": ".py",
   "mimetype": "text/x-python",
   "name": "python",
   "nbconvert_exporter": "python",
   "pygments_lexer": "ipython3",
   "version": "3.7.0"
  }
 },
 "nbformat": 4,
 "nbformat_minor": 2
}
